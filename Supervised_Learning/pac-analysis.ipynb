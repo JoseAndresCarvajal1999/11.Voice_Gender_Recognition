{
 "cells": [
  {
   "cell_type": "markdown",
   "id": "nutritional-elizabeth",
   "metadata": {},
   "source": [
    "# Probably Approximately Correct Learning"
   ]
  },
  {
   "cell_type": "code",
   "execution_count": 1,
   "id": "entitled-differential",
   "metadata": {},
   "outputs": [],
   "source": [
    "%matplotlib inline"
   ]
  },
  {
   "cell_type": "markdown",
   "id": "great-petroleum",
   "metadata": {},
   "source": [
    "*Libraries*"
   ]
  },
  {
   "cell_type": "code",
   "execution_count": 2,
   "id": "right-patrick",
   "metadata": {},
   "outputs": [],
   "source": [
    "import numpy as np\n",
    "import matplotlib.pyplot as plt\n",
    "from scipy.special import binom"
   ]
  },
  {
   "cell_type": "markdown",
   "id": "nutritional-steering",
   "metadata": {},
   "source": [
    "*Global parameters*"
   ]
  },
  {
   "cell_type": "code",
   "execution_count": 3,
   "id": "behavioral-ozone",
   "metadata": {},
   "outputs": [],
   "source": [
    "num_features = 20\n",
    "real_sample_size = 1900\n",
    "depth = 8\n",
    "degree = 3"
   ]
  },
  {
   "cell_type": "markdown",
   "id": "centered-fundamentals",
   "metadata": {},
   "source": [
    "*Paths*"
   ]
  },
  {
   "cell_type": "code",
   "execution_count": 4,
   "id": "accurate-compression",
   "metadata": {},
   "outputs": [],
   "source": [
    "figs_path = '../figs/'"
   ]
  },
  {
   "cell_type": "markdown",
   "id": "gorgeous-status",
   "metadata": {},
   "source": [
    "## Decision Tree"
   ]
  },
  {
   "cell_type": "markdown",
   "id": "therapeutic-concept",
   "metadata": {},
   "source": [
    "\\begin{equation}\n",
    "    N \\geq \\frac{\\ln 2}{2 \\epsilon^{2}}\\left(\\left(2^{k}-1\\right)\\left(1+\\log _{2} m\\right)+1+\\ln \\delta^{-1}\\right)\n",
    "\\end{equation}"
   ]
  },
  {
   "cell_type": "markdown",
   "id": "antique-cathedral",
   "metadata": {},
   "source": [
    "where,\n",
    "\n",
    "- $N$, sample size\n",
    "- $k$, depth of the tree\n",
    "- $m$, number of features\n",
    "- $\\epsilon$, true error bound\n",
    "- $\\delta$, training error bound"
   ]
  },
  {
   "cell_type": "code",
   "execution_count": 5,
   "id": "suburban-newton",
   "metadata": {},
   "outputs": [],
   "source": [
    "def pac_bound_decision_tree(num_features, depth, epsilon, delta):\n",
    "    \"\"\"\n",
    "    PAC bound of a decision tree\n",
    "\n",
    "    Parameters\n",
    "    ----------\n",
    "    num_features : int\n",
    "        number of features\n",
    "    depth : int\n",
    "        depth of the tree\n",
    "    epsilon : float\n",
    "        true error bound\n",
    "    delta : float\n",
    "        training error bound\n",
    "    \"\"\"\n",
    "    return (np.log(2) / (2 * epsilon ** 2 )) * ((2 ** depth - 1) * (1 + np.log2(num_features)) + 1 + np.log(delta ** -1))"
   ]
  },
  {
   "cell_type": "markdown",
   "id": "double-danger",
   "metadata": {},
   "source": [
    "*Example*"
   ]
  },
  {
   "cell_type": "code",
   "execution_count": 6,
   "id": "bulgarian-workstation",
   "metadata": {},
   "outputs": [
    {
     "name": "stdout",
     "output_type": "stream",
     "text": [
      "delta = 0.02, epsilon = 0.05, m >= 188813.80\n",
      "delta = 0.07, epsilon = 0.10, m >= 47160.03\n",
      "delta = 0.10, epsilon = 0.15, m >= 20954.52\n"
     ]
    }
   ],
   "source": [
    "for delta, epsilon in [(0.02, 0.05), (0.07, 0.10), (0.10, 0.15)]:\n",
    "    sample_size = pac_bound_decision_tree(num_features, depth, epsilon, delta)\n",
    "    print('delta = {:.2f}, epsilon = {:.2f}, m >= {:.2f}'.format(delta, epsilon, sample_size))"
   ]
  },
  {
   "cell_type": "markdown",
   "id": "committed-hamilton",
   "metadata": {},
   "source": [
    "## Support-Vector Machine"
   ]
  },
  {
   "cell_type": "markdown",
   "id": "genetic-aspect",
   "metadata": {},
   "source": [
    "\\begin{equation}\n",
    "    N \\geq \\max \\left\\{\\frac{4}{\\epsilon} \\ln \\left(\\frac{2}{\\delta}\\right), \\frac{8 \\mathrm{VC}}{\\epsilon} \\ln \\left(\\frac{13}{\\epsilon}\\right)\\right\\}\n",
    "\\end{equation}"
   ]
  },
  {
   "cell_type": "markdown",
   "id": "dominican-newark",
   "metadata": {},
   "source": [
    "where,\n",
    "\n",
    "- $N$, sample size\n",
    "- $VC$, classifier's Vapnik-Chervonenkis dimension\n",
    "- $\\epsilon$, true error bound\n",
    "- $\\delta$, training error bound"
   ]
  },
  {
   "cell_type": "code",
   "execution_count": 7,
   "id": "alpha-emission",
   "metadata": {},
   "outputs": [],
   "source": [
    "def pac_bound_svm(num_features, vc, epsilon, delta):\n",
    "    \"\"\"\n",
    "    PAC bound of a support-vector machine\n",
    "\n",
    "    Parameters\n",
    "    ----------\n",
    "    num_features : int\n",
    "        number of features\n",
    "    vc : int\n",
    "        vapnik-chervonenkis dimension\n",
    "    epsilon : float\n",
    "        true error bound\n",
    "    delta : float\n",
    "        training error bound\n",
    "    \"\"\"\n",
    "    return max((4 / epsilon) * np.log(2 / delta), (8 * vc / epsilon) * np.log(13 / epsilon))"
   ]
  },
  {
   "cell_type": "markdown",
   "id": "fiscal-screen",
   "metadata": {},
   "source": [
    "*Example (Linear SVM)*"
   ]
  },
  {
   "cell_type": "code",
   "execution_count": 8,
   "id": "expressed-thumbnail",
   "metadata": {},
   "outputs": [
    {
     "name": "stdout",
     "output_type": "stream",
     "text": [
      "delta = 0.02, epsilon = 0.05, m >= 18683.89\n",
      "delta = 0.07, epsilon = 0.10, m >= 8177.46\n",
      "delta = 0.10, epsilon = 0.15, m >= 4997.52\n"
     ]
    }
   ],
   "source": [
    "# VC-dimension\n",
    "vc_linear = num_features + 1\n",
    "\n",
    "# Compute sample sizes\n",
    "for delta, epsilon in [(0.02, 0.05), (0.07, 0.10), (0.10, 0.15)]:\n",
    "    sample_size = pac_bound_svm(num_features, vc_linear, epsilon, delta)\n",
    "    print('delta = {:.2f}, epsilon = {:.2f}, m >= {:.2f}'.format(delta, epsilon, sample_size))"
   ]
  },
  {
   "cell_type": "markdown",
   "id": "cheap-fitting",
   "metadata": {},
   "source": [
    "*Example (Polynomial SVM)*"
   ]
  },
  {
   "cell_type": "code",
   "execution_count": 9,
   "id": "generous-stevens",
   "metadata": {},
   "outputs": [
    {
     "name": "stdout",
     "output_type": "stream",
     "text": [
      "delta = 0.02, epsilon = 0.05, m >= 1575674.75\n",
      "delta = 0.07, epsilon = 0.10, m >= 689632.28\n",
      "delta = 0.10, epsilon = 0.15, m >= 421457.32\n"
     ]
    }
   ],
   "source": [
    "# VC-dimension\n",
    "vc_poly = binom(num_features + degree, degree)\n",
    "\n",
    "# Compute sample sizes\n",
    "for delta, epsilon in [(0.02, 0.05), (0.07, 0.10), (0.10, 0.15)]:\n",
    "    sample_size = pac_bound_svm(num_features, vc_poly, epsilon, delta)\n",
    "    print('delta = {:.2f}, epsilon = {:.2f}, m >= {:.2f}'.format(delta, epsilon, sample_size))"
   ]
  },
  {
   "cell_type": "markdown",
   "id": "abroad-diving",
   "metadata": {},
   "source": [
    "## Sample Size Comparison"
   ]
  },
  {
   "cell_type": "markdown",
   "id": "particular-flood",
   "metadata": {},
   "source": [
    "*Parameters*"
   ]
  },
  {
   "cell_type": "code",
   "execution_count": 10,
   "id": "formed-emphasis",
   "metadata": {},
   "outputs": [],
   "source": [
    "steps = 100\n",
    "low_delta, high_delta = 0.01, 0.30\n",
    "bound_diff = 0.20"
   ]
  },
  {
   "cell_type": "markdown",
   "id": "olympic-coordinator",
   "metadata": {},
   "source": [
    "*Compute sample sizes*"
   ]
  },
  {
   "cell_type": "code",
   "execution_count": 11,
   "id": "smaller-waters",
   "metadata": {},
   "outputs": [],
   "source": [
    "delta_range = np.linspace(low_delta, high_delta, steps)\n",
    "fixed_sample_size = np.array(steps * [real_sample_size])\n",
    "size_decision_tree = np.array(steps * [0])\n",
    "size_svm_linear = np.array(steps * [0])\n",
    "size_svm_polynomial = np.array(steps * [0])\n",
    "\n",
    "for i, delta in enumerate(delta_range):\n",
    "    epsilon = delta + bound_diff\n",
    "    size_decision_tree[i] = pac_bound_decision_tree(num_features, depth, epsilon, delta)\n",
    "    size_svm_linear[i] = pac_bound_svm(num_features, vc_linear, epsilon, delta)\n",
    "    size_svm_polynomial[i] = pac_bound_svm(num_features, vc_poly, epsilon, delta)"
   ]
  },
  {
   "cell_type": "markdown",
   "id": "compound-throat",
   "metadata": {},
   "source": [
    "*Compare sample sizes*"
   ]
  },
  {
   "cell_type": "code",
   "execution_count": 12,
   "id": "speaking-statement",
   "metadata": {},
   "outputs": [
    {
     "data": {
      "image/png": "[encoded data removed]",
      "text/plain": [
       "<Figure size 432x288 with 1 Axes>"
      ]
     },
     "metadata": {
      "needs_background": "light"
     },
     "output_type": "display_data"
    }
   ],
   "source": [
    "plt.figure()\n",
    "plt.plot(delta_range, size_decision_tree, linewidth=4, label='Decision Tree')\n",
    "plt.plot(delta_range, size_svm_linear, linewidth=4, label='Linear SVM')\n",
    "plt.plot(delta_range, size_svm_polynomial, linewidth=4, label='Polynomial SVM')\n",
    "plt.ylabel('minimum sample size')\n",
    "plt.xlabel(r'$\\delta$')\n",
    "plt.title('Optimal Sample Size Comparison {}-d'.format(num_features))\n",
    "plt.legend()\n",
    "plt.tight_layout()\n",
    "plt.savefig(figs_path + 'optimal_sample_size_comparison_{}d.pdf'.format(num_features))\n",
    "plt.show()"
   ]
  },
  {
   "cell_type": "markdown",
   "id": "checked-carry",
   "metadata": {},
   "source": [
    "*Plot decision tree optimal sample size*"
   ]
  },
  {
   "cell_type": "code",
   "execution_count": 13,
   "id": "standing-pitch",
   "metadata": {},
   "outputs": [
    {
     "data": {
      "image/png": "[encoded data removed]",
      "text/plain": [
       "<Figure size 432x288 with 1 Axes>"
      ]
     },
     "metadata": {
      "needs_background": "light"
     },
     "output_type": "display_data"
    }
   ],
   "source": [
    "plt.figure()\n",
    "plt.plot(delta_range, size_decision_tree, linewidth=4, label='optimal sample size')\n",
    "plt.plot(delta_range, fixed_sample_size, linewidth=4, label='sample size = {}'.format(real_sample_size))\n",
    "plt.ylabel('minimum sample size')\n",
    "plt.xlabel(r'$\\delta$')\n",
    "plt.title('Decision Tree Optimal Sample Size {}-d'.format(num_features))\n",
    "plt.legend()\n",
    "plt.tight_layout()\n",
    "plt.savefig(figs_path + 'decision_tree_optimal_sample_size_{}d.pdf'.format(num_features))\n",
    "plt.show()"
   ]
  },
  {
   "cell_type": "markdown",
   "id": "parallel-accessory",
   "metadata": {},
   "source": [
    "*Plot linear SVM optimal sample size*"
   ]
  },
  {
   "cell_type": "code",
   "execution_count": 14,
   "id": "extraordinary-party",
   "metadata": {},
   "outputs": [
    {
     "data": {
      "image/png": "[encoded data removed]",
      "text/plain": [
       "<Figure size 432x288 with 1 Axes>"
      ]
     },
     "metadata": {
      "needs_background": "light"
     },
     "output_type": "display_data"
    }
   ],
   "source": [
    "plt.figure()\n",
    "plt.plot(delta_range, size_svm_linear, linewidth=4, label='optimal sample size')\n",
    "plt.plot(delta_range, fixed_sample_size, linewidth=4, label='sample size = {}'.format(real_sample_size))\n",
    "plt.ylabel('minimum sample size')\n",
    "plt.xlabel(r'$\\delta$')\n",
    "plt.title('Linear SVM Optimal Sample Size {}-d'.format(num_features))\n",
    "plt.legend()\n",
    "plt.tight_layout()\n",
    "plt.savefig(figs_path + 'linear_svm_optimal_sample_size_{}d.pdf'.format(num_features))\n",
    "plt.show()"
   ]
  },
  {
   "cell_type": "markdown",
   "id": "abroad-rings",
   "metadata": {},
   "source": [
    "*Plot polynomial SVM optimal sample size*"
   ]
  },
  {
   "cell_type": "code",
   "execution_count": 15,
   "id": "provincial-native",
   "metadata": {},
   "outputs": [
    {
     "data": {
      "image/png": "[encoded data removed]",
      "text/plain": [
       "<Figure size 432x288 with 1 Axes>"
      ]
     },
     "metadata": {
      "needs_background": "light"
     },
     "output_type": "display_data"
    }
   ],
   "source": [
    "plt.figure()\n",
    "plt.plot(delta_range, size_svm_polynomial, linewidth=4, label='optimal sample size')\n",
    "plt.plot(delta_range, fixed_sample_size, linewidth=4, label='sample size = {}'.format(real_sample_size))\n",
    "plt.ylabel('minimum sample size')\n",
    "plt.xlabel(r'$\\delta$')\n",
    "plt.title('Polynomial SVM Optimal Sample Size {}-d'.format(num_features))\n",
    "plt.legend()\n",
    "plt.tight_layout()\n",
    "plt.savefig(figs_path + 'poly_svm_optimal_sample_size_{}d.pdf'.format(num_features))\n",
    "plt.show()"
   ]
  }
 ],
 "metadata": {
  "kernelspec": {
   "display_name": "Python 3.8.3 64-bit ('ml': conda)",
   "language": "python",
   "name": "python38364bitmlconda1a1aa23d0e0b4a48be71e958a1e0752d"
  },
  "language_info": {
   "codemirror_mode": {
    "name": "ipython",
    "version": 3
   },
   "file_extension": ".py",
   "mimetype": "text/x-python",
   "name": "python",
   "nbconvert_exporter": "python",
   "pygments_lexer": "ipython3",
   "version": "3.8.8"
  },
  "metadata": {
   "interpreter": {
    "hash": "31634f1ac1f7a37d546e4d9d459aefe21fc02e63fca6a5df64eb3734d52079ec"
   }
  }
 },
 "nbformat": 4,
 "nbformat_minor": 5
}
