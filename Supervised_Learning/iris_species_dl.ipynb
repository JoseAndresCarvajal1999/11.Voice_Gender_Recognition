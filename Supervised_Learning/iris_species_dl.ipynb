{
 "cells": [
  {
   "cell_type": "markdown",
   "id": "awful-understanding",
   "metadata": {},
   "source": [
    "# Iris Species Classification (Deep Learning)"
   ]
  },
  {
   "cell_type": "markdown",
   "id": "harmful-festival",
   "metadata": {
    "id": "BM3L0qOLPlWb"
   },
   "source": [
    "*Import libraries*"
   ]
  },
  {
   "cell_type": "code",
   "execution_count": 1,
   "id": "infinite-importance",
   "metadata": {
    "id": "Kqfx0amkKTRi"
   },
   "outputs": [],
   "source": [
    "import numpy as np\n",
    "from sklearn.datasets import load_iris\n",
    "from sklearn.model_selection import train_test_split\n",
    "from sklearn.preprocessing import MinMaxScaler\n",
    "from sklearn.metrics import accuracy_score\n",
    "from sklearn.metrics import precision_score, recall_score, f1_score\n",
    "from modules.mlp import MultilayerPerceptron\n",
    "from modules.utils import encode_labels"
   ]
  },
  {
   "cell_type": "markdown",
   "id": "manufactured-exchange",
   "metadata": {
    "id": "bfWIeDQELcyp"
   },
   "source": [
    "## 1. Preprocessing"
   ]
  },
  {
   "cell_type": "markdown",
   "id": "independent-azerbaijan",
   "metadata": {
    "id": "moJEY1KTL50S"
   },
   "source": [
    "*Read dataset*"
   ]
  },
  {
   "cell_type": "code",
   "execution_count": 2,
   "id": "capable-drunk",
   "metadata": {
    "id": "INa6QwdtL4WU"
   },
   "outputs": [],
   "source": [
    "dataset = load_iris()"
   ]
  },
  {
   "cell_type": "markdown",
   "id": "scheduled-health",
   "metadata": {
    "id": "YKeAddFPMP8J"
   },
   "source": [
    "*Feature matrix*"
   ]
  },
  {
   "cell_type": "code",
   "execution_count": 3,
   "id": "suburban-replica",
   "metadata": {
    "id": "HabmREyuMRHN"
   },
   "outputs": [],
   "source": [
    "features = dataset['data']"
   ]
  },
  {
   "cell_type": "markdown",
   "id": "mounted-spectrum",
   "metadata": {
    "id": "-_JzhxkiMaEp"
   },
   "source": [
    "*Label vector*"
   ]
  },
  {
   "cell_type": "code",
   "execution_count": 4,
   "id": "surprised-typing",
   "metadata": {
    "id": "MmlwQLokMcH8"
   },
   "outputs": [],
   "source": [
    "labels = dataset['target']"
   ]
  },
  {
   "cell_type": "markdown",
   "id": "anonymous-rally",
   "metadata": {
    "id": "9NotuWLXMf2e"
   },
   "source": [
    "## 2. Learning"
   ]
  },
  {
   "cell_type": "markdown",
   "id": "burning-campus",
   "metadata": {
    "id": "U5VFYdh4VYoY"
   },
   "source": [
    "*Split in train and rest*"
   ]
  },
  {
   "cell_type": "code",
   "execution_count": 5,
   "id": "indie-rouge",
   "metadata": {
    "id": "h0yFVwPsVYod"
   },
   "outputs": [],
   "source": [
    "features_train, features_rest, labels_train, labels_rest = train_test_split(features, labels, test_size=0.40)"
   ]
  },
  {
   "cell_type": "markdown",
   "id": "streaming-pizza",
   "metadata": {
    "id": "JP0FhNN9VYog"
   },
   "source": [
    "*Split in validation and test*"
   ]
  },
  {
   "cell_type": "code",
   "execution_count": 6,
   "id": "favorite-jordan",
   "metadata": {
    "id": "cx2SeNdOVYoh"
   },
   "outputs": [],
   "source": [
    "features_val, features_test, labels_val, labels_test = train_test_split(features, labels, test_size=0.50)"
   ]
  },
  {
   "cell_type": "markdown",
   "id": "perfect-birth",
   "metadata": {
    "id": "uauASaLAVYoi"
   },
   "source": [
    "*Scale features*"
   ]
  },
  {
   "cell_type": "code",
   "execution_count": 7,
   "id": "attached-creek",
   "metadata": {
    "id": "-B2sSbf9VYok"
   },
   "outputs": [],
   "source": [
    "sc = MinMaxScaler()\n",
    "features_train = sc.fit_transform(features_train)\n",
    "features_val = sc.transform(features_val)\n",
    "features_test = sc.transform(features_test)"
   ]
  },
  {
   "cell_type": "markdown",
   "id": "tribal-ordinance",
   "metadata": {},
   "source": [
    "*Compute performance metrics*"
   ]
  },
  {
   "cell_type": "code",
   "execution_count": 8,
   "id": "empty-jurisdiction",
   "metadata": {},
   "outputs": [],
   "source": [
    "def compute_metrics(labels_eval, labels_pred):\n",
    "    metrics = {}\n",
    "    metrics['accuracy'] = accuracy_score(labels_eval, labels_pred)\n",
    "    metrics['precision'] = precision_score(labels_eval, labels_pred, average='micro')\n",
    "    metrics['recall'] = recall_score(labels_eval, labels_pred, average='micro')\n",
    "    metrics['f1_score'] = f1_score(labels_eval, labels_pred, average='micro')\n",
    "    return metrics"
   ]
  },
  {
   "cell_type": "markdown",
   "id": "imposed-colon",
   "metadata": {},
   "source": [
    "*Assess classifier's performance*"
   ]
  },
  {
   "cell_type": "code",
   "execution_count": 9,
   "id": "published-garbage",
   "metadata": {},
   "outputs": [],
   "source": [
    "def assess_performance(classifier, features_eval, labels_eval):\n",
    "    labels_scores = classifier.predict(features_eval)\n",
    "    labels_pred = np.argmax(labels_scores, axis=1)\n",
    "    return compute_metrics(labels_eval, labels_pred)"
   ]
  },
  {
   "cell_type": "markdown",
   "id": "enclosed-adaptation",
   "metadata": {},
   "source": [
    "*Encode training labels*"
   ]
  },
  {
   "cell_type": "code",
   "execution_count": 10,
   "id": "coated-routine",
   "metadata": {},
   "outputs": [],
   "source": [
    "encoded_labels_train = encode_labels(labels_train)"
   ]
  },
  {
   "cell_type": "markdown",
   "id": "skilled-referral",
   "metadata": {},
   "source": [
    "*Select architecture*"
   ]
  },
  {
   "cell_type": "code",
   "execution_count": 11,
   "id": "narrative-broad",
   "metadata": {},
   "outputs": [],
   "source": [
    "architecture = [features.shape[1], 3, 3, 3, encoded_labels_train.shape[1]]"
   ]
  },
  {
   "cell_type": "markdown",
   "id": "going-living",
   "metadata": {},
   "source": [
    "*Train model*"
   ]
  },
  {
   "cell_type": "code",
   "execution_count": 12,
   "id": "tight-orleans",
   "metadata": {
    "pixiedust": {
     "displayParams": {}
    }
   },
   "outputs": [],
   "source": [
    "brain = MultilayerPerceptron(architecture)\n",
    "_, _ = brain.fit(features_train, encoded_labels_train, epochs=500)"
   ]
  },
  {
   "cell_type": "markdown",
   "id": "molecular-crack",
   "metadata": {},
   "source": [
    "*Evaluate classifier's performance in the validation set*"
   ]
  },
  {
   "cell_type": "code",
   "execution_count": 13,
   "id": "median-dispatch",
   "metadata": {},
   "outputs": [
    {
     "data": {
      "text/plain": [
       "{'accuracy': 0.9866666666666667,\n",
       " 'precision': 0.9866666666666667,\n",
       " 'recall': 0.9866666666666667,\n",
       " 'f1_score': 0.9866666666666668}"
      ]
     },
     "execution_count": 13,
     "metadata": {},
     "output_type": "execute_result"
    }
   ],
   "source": [
    "metrics_val = assess_performance(brain, features_val, labels_val)\n",
    "metrics_val"
   ]
  },
  {
   "cell_type": "markdown",
   "id": "usual-platinum",
   "metadata": {},
   "source": [
    "*Evaluate classifier's performance in the test set*"
   ]
  },
  {
   "cell_type": "code",
   "execution_count": 14,
   "id": "silver-patrol",
   "metadata": {},
   "outputs": [
    {
     "data": {
      "text/plain": [
       "{'accuracy': 0.9466666666666667,\n",
       " 'precision': 0.9466666666666667,\n",
       " 'recall': 0.9466666666666667,\n",
       " 'f1_score': 0.9466666666666667}"
      ]
     },
     "execution_count": 14,
     "metadata": {},
     "output_type": "execute_result"
    }
   ],
   "source": [
    "metrics_test = assess_performance(brain, features_test, labels_test)\n",
    "metrics_test"
   ]
  }
 ],
 "metadata": {
  "kernelspec": {
   "display_name": "Python 3.8.3 64-bit ('ml': conda)",
   "language": "python",
   "name": "python38364bitmlconda1a1aa23d0e0b4a48be71e958a1e0752d"
  },
  "language_info": {
   "codemirror_mode": {
    "name": "ipython",
    "version": 3
   },
   "file_extension": ".py",
   "mimetype": "text/x-python",
   "name": "python",
   "nbconvert_exporter": "python",
   "pygments_lexer": "ipython3",
   "version": "3.8.8"
  },
  "metadata": {
   "interpreter": {
    "hash": "31634f1ac1f7a37d546e4d9d459aefe21fc02e63fca6a5df64eb3734d52079ec"
   }
  }
 },
 "nbformat": 4,
 "nbformat_minor": 5
}
